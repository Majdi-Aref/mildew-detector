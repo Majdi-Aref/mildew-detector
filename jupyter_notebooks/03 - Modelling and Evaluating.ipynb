{
 "cells": [
  {
   "cell_type": "markdown",
   "id": "d81775a5-51d6-4a18-920d-da9683bb03e6",
   "metadata": {},
   "source": [
    "# Modelling and Evaluation Notebook"
   ]
  },
  {
   "cell_type": "markdown",
   "id": "e1eeafd4-b32f-4a8c-991b-3d4a8e3ef898",
   "metadata": {},
   "source": [
    "### Objectives"
   ]
  },
  {
   "cell_type": "markdown",
   "id": "b33a3ebb-9d3c-42f6-89bf-de7047d1063d",
   "metadata": {},
   "source": [
    "Answer business requirement 2:\n",
    "+ The client wants to be able to know whether a cherry leaf is healthy or contains powdery mildew. "
   ]
  },
  {
   "cell_type": "markdown",
   "id": "1f1779c5-3737-4a19-a808-345faf9692ad",
   "metadata": {},
   "source": [
    "### Inputs"
   ]
  },
  {
   "cell_type": "markdown",
   "id": "3c1b0751-145d-464e-87b0-94a222eacffa",
   "metadata": {},
   "source": [
    "+ inputs/cherry_leaves_dataset/cherry_leaves_image/train\n",
    "+ inputs/cherry_leaves_dataset/cherry_leaves_image/test\n",
    "+ inputs/cherry_leaves_dataset/cherry_leaves_image/validation\n",
    "+ image shape embeddings."
   ]
  },
  {
   "cell_type": "markdown",
   "id": "89d0921b-7013-48b8-a5b7-ea503886e0e4",
   "metadata": {},
   "source": [
    "### Outputs"
   ]
  },
  {
   "cell_type": "markdown",
   "id": "16fb0b9f-1697-4045-bfac-45a8fa5d7791",
   "metadata": {},
   "source": [
    "+ Images distribution plot in train, validation, and test set.\n",
    "+ Image augmentation.\n",
    "+ Class indices to change prediction inference in labels.\n",
    "+ Machine learning model creation and training.\n",
    "+ Save model.\n",
    "+ Learning curve plot for model performance.\n",
    "+ Model evaluation on pickle file.\n",
    "+ Prediction on the random image file."
   ]
  },
  {
   "cell_type": "markdown",
   "id": "93ff4565-9b63-4e60-b250-722ba2837dea",
   "metadata": {},
   "source": [
    "# Import regular packages"
   ]
  },
  {
   "cell_type": "code",
   "execution_count": 1,
   "id": "94e062b5-ea16-4085-97b2-db2317adcac4",
   "metadata": {},
   "outputs": [],
   "source": [
    "import os\n",
    "import pandas as pd\n",
    "import numpy as np\n",
    "import matplotlib.pyplot as plt\n",
    "import seaborn as sns\n",
    "from matplotlib.image import imread"
   ]
  },
  {
   "cell_type": "markdown",
   "id": "12c48fb0-6a93-4da7-ad7f-ab1e9f53d409",
   "metadata": {},
   "source": [
    "### Set Working Directory"
   ]
  },
  {
   "cell_type": "code",
   "execution_count": 2,
   "id": "3ae1fd10-9243-4023-bcf1-974b4b3470d1",
   "metadata": {},
   "outputs": [],
   "source": [
    "cwd= os.getcwd()"
   ]
  },
  {
   "cell_type": "code",
   "execution_count": 3,
   "id": "2f334d1b-b267-419a-bc5a-6a9dd4c85a85",
   "metadata": {},
   "outputs": [
    {
     "name": "stdout",
     "output_type": "stream",
     "text": [
      "'mildew-detector' has been set as the new current directory\n"
     ]
    }
   ],
   "source": [
    "os.chdir('/workspaces/mildew-detector')\n",
    "print(\"'mildew-detector' has been set as the new current directory\")"
   ]
  },
  {
   "cell_type": "code",
   "execution_count": 4,
   "id": "705fb0c6-4989-4482-90bf-bfb1ee9fac1a",
   "metadata": {},
   "outputs": [
    {
     "data": {
      "text/plain": [
       "'/workspaces/mildew-detector'"
      ]
     },
     "execution_count": 4,
     "metadata": {},
     "output_type": "execute_result"
    }
   ],
   "source": [
    "work_dir = os.getcwd()\n",
    "work_dir"
   ]
  },
  {
   "cell_type": "markdown",
   "id": "79b57d23-65f7-4ec0-834f-d9e50bbefc2c",
   "metadata": {},
   "source": [
    "### Set input directories"
   ]
  },
  {
   "cell_type": "markdown",
   "id": "4bba63d8-a36f-4833-a1ab-ac76a6f0be76",
   "metadata": {},
   "source": [
    "+ Set train, validation and test paths"
   ]
  },
  {
   "cell_type": "code",
   "execution_count": 5,
   "id": "e291aecf-37a7-4390-904a-02b64bc95e7f",
   "metadata": {},
   "outputs": [],
   "source": [
    "my_data_dir = 'inputs/cherry_leaves_dataset/cherry_leaves_images'\n",
    "train_path = my_data_dir + '/train'\n",
    "val_path = my_data_dir + '/validation'\n",
    "test_path = my_data_dir + '/test'"
   ]
  },
  {
   "cell_type": "markdown",
   "id": "ade91604-9b9a-479f-80c4-12ab53af7841",
   "metadata": {},
   "source": [
    "### Set output directory"
   ]
  },
  {
   "cell_type": "code",
   "execution_count": 6,
   "id": "0f1ab2aa-a4cd-4630-9c58-39e9467a1f61",
   "metadata": {},
   "outputs": [
    {
     "name": "stdout",
     "output_type": "stream",
     "text": [
      "Old version is already available create a new version.\n"
     ]
    }
   ],
   "source": [
    "version = 'v1'\n",
    "file_path = f'outputs/{version}'\n",
    "\n",
    "if 'outputs' in os.listdir(work_dir) and version in os.listdir(work_dir + '/outputs'):\n",
    "    print('Old version is already available create a new version.')\n",
    "    pass\n",
    "else:\n",
    "    os.makedirs(name=file_path)"
   ]
  },
  {
   "cell_type": "markdown",
   "id": "d807b9b7-4ed3-4fee-9800-3e352f124d62",
   "metadata": {},
   "source": [
    "### Set labels"
   ]
  },
  {
   "cell_type": "code",
   "execution_count": 7,
   "id": "0c3cda62-9627-4fd5-99c6-2cc2a665517d",
   "metadata": {},
   "outputs": [
    {
     "name": "stdout",
     "output_type": "stream",
     "text": [
      "Project Labels: ['healthy', 'powdery_mildew']\n"
     ]
    }
   ],
   "source": [
    "labels = os.listdir(train_path)\n",
    "\n",
    "print(\n",
    "    f\"Project Labels: {labels}\"\n",
    ")"
   ]
  },
  {
   "cell_type": "markdown",
   "id": "6a777786-15d9-4e4a-b231-9657ba498bdf",
   "metadata": {},
   "source": [
    "### Set image shape"
   ]
  },
  {
   "cell_type": "code",
   "execution_count": 8,
   "id": "9c7394c2-f94b-413c-af79-f488da910c4f",
   "metadata": {},
   "outputs": [
    {
     "data": {
      "text/plain": [
       "(100, 100, 3)"
      ]
     },
     "execution_count": 8,
     "metadata": {},
     "output_type": "execute_result"
    }
   ],
   "source": [
    "## Import saved image shape embedding\n",
    "import joblib\n",
    "version = 'v1'\n",
    "image_shape = joblib.load(filename=f\"outputs/{version}/image_shape.pkl\")\n",
    "image_shape"
   ]
  },
  {
   "cell_type": "markdown",
   "id": "c6356fe7-1222-457f-8058-fc814f8d0d49",
   "metadata": {},
   "source": [
    "### Number of images in train, test and validation data"
   ]
  },
  {
   "cell_type": "code",
   "execution_count": null,
   "id": "7efb49f6-1868-4873-b7f1-aa72d20e2033",
   "metadata": {},
   "outputs": [],
   "source": []
  },
  {
   "cell_type": "code",
   "execution_count": null,
   "id": "f1d02cfd-61ec-4c9c-9f35-623f88bbbbaf",
   "metadata": {},
   "outputs": [],
   "source": []
  },
  {
   "cell_type": "code",
   "execution_count": null,
   "id": "097849f0-d196-4bd5-b286-9468befc56a1",
   "metadata": {},
   "outputs": [],
   "source": []
  },
  {
   "cell_type": "code",
   "execution_count": null,
   "id": "c1d04f9c-33dc-4cd3-8334-99d63f48ca6b",
   "metadata": {},
   "outputs": [],
   "source": []
  },
  {
   "cell_type": "code",
   "execution_count": null,
   "id": "947e3be4-f91c-4437-b6ce-9e162bdb0f54",
   "metadata": {},
   "outputs": [],
   "source": []
  },
  {
   "cell_type": "code",
   "execution_count": null,
   "id": "d7b15d3c-451b-443e-b2a3-09b1e9a3e4b6",
   "metadata": {},
   "outputs": [],
   "source": []
  },
  {
   "cell_type": "code",
   "execution_count": null,
   "id": "1ea2aa83-a7c7-44fd-93a3-5ce77220e245",
   "metadata": {},
   "outputs": [],
   "source": []
  },
  {
   "cell_type": "code",
   "execution_count": null,
   "id": "e0799725-1408-43d4-b956-e777f4d13316",
   "metadata": {},
   "outputs": [],
   "source": []
  },
  {
   "cell_type": "code",
   "execution_count": null,
   "id": "390b5093-8874-4ca5-85f4-3c2de4ac0539",
   "metadata": {},
   "outputs": [],
   "source": []
  },
  {
   "cell_type": "code",
   "execution_count": null,
   "id": "fec1bdc4-d2df-4655-9dc4-016965fc418b",
   "metadata": {},
   "outputs": [],
   "source": []
  },
  {
   "cell_type": "code",
   "execution_count": null,
   "id": "d1951f0b-2703-47e1-aec0-3ec242047170",
   "metadata": {},
   "outputs": [],
   "source": []
  },
  {
   "cell_type": "code",
   "execution_count": null,
   "id": "319ac32e-49f4-46fe-9939-93cea713f428",
   "metadata": {},
   "outputs": [],
   "source": []
  },
  {
   "cell_type": "code",
   "execution_count": null,
   "id": "bef75ac8-8209-4997-a60e-9abd779f1920",
   "metadata": {},
   "outputs": [],
   "source": []
  },
  {
   "cell_type": "code",
   "execution_count": null,
   "id": "2684b884-0317-49d8-9a2f-a11b043e8756",
   "metadata": {},
   "outputs": [],
   "source": []
  },
  {
   "cell_type": "code",
   "execution_count": null,
   "id": "41705a1c-e5c3-41ac-ab4d-8ad716913537",
   "metadata": {},
   "outputs": [],
   "source": []
  },
  {
   "cell_type": "code",
   "execution_count": null,
   "id": "76d6d339-43b7-4524-9bd5-05afef6902ba",
   "metadata": {},
   "outputs": [],
   "source": []
  },
  {
   "cell_type": "code",
   "execution_count": null,
   "id": "bd5c64e8-5d2e-4368-9f54-239f00179e36",
   "metadata": {},
   "outputs": [],
   "source": []
  },
  {
   "cell_type": "code",
   "execution_count": null,
   "id": "554243ef-3e12-4324-be98-6f14c63b00d6",
   "metadata": {},
   "outputs": [],
   "source": []
  },
  {
   "cell_type": "code",
   "execution_count": null,
   "id": "93467beb-aa87-49b4-adcf-491e8d4476a1",
   "metadata": {},
   "outputs": [],
   "source": []
  }
 ],
 "metadata": {
  "kernelspec": {
   "display_name": "Python 3 (ipykernel)",
   "language": "python",
   "name": "python3"
  },
  "language_info": {
   "codemirror_mode": {
    "name": "ipython",
    "version": 3
   },
   "file_extension": ".py",
   "mimetype": "text/x-python",
   "name": "python",
   "nbconvert_exporter": "python",
   "pygments_lexer": "ipython3",
   "version": "3.8.12"
  }
 },
 "nbformat": 4,
 "nbformat_minor": 5
}
